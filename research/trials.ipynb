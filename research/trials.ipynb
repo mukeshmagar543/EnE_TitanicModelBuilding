{
 "cells": [
  {
   "cell_type": "code",
   "execution_count": 1,
   "id": "b42b1e4b",
   "metadata": {},
   "outputs": [],
   "source": [
    "# Import Data Manipulation Libraries\n",
    "import pandas as pd\n",
    "import numpy as np\n",
    "\n",
    "# Import Visualization Libraries\n",
    "import seaborn as sns\n",
    "import matplotlib.pyplot as plt\n",
    "\n",
    "# Import Warnings Library\n",
    "import warnings\n",
    "warnings.filterwarnings('ignore')\n",
    "\n",
    "import logging\n",
    "logging.basicConfig(level=logging.INFO,\n",
    "                    filename= 'model.log',\n",
    "                    filemode= 'w',\n",
    "                    format='%(asctime)s - %(levelname)s - %(message)s'\n",
    ")\n"
   ]
  }
 ],
 "metadata": {
  "kernelspec": {
   "display_name": "base",
   "language": "python",
   "name": "python3"
  },
  "language_info": {
   "codemirror_mode": {
    "name": "ipython",
    "version": 3
   },
   "file_extension": ".py",
   "mimetype": "text/x-python",
   "name": "python",
   "nbconvert_exporter": "python",
   "pygments_lexer": "ipython3",
   "version": "3.11.11"
  }
 },
 "nbformat": 4,
 "nbformat_minor": 5
}
